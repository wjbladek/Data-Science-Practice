{
 "nbformat": 4,
 "nbformat_minor": 2,
 "metadata": {
  "language_info": {
   "name": "python",
   "codemirror_mode": {
    "name": "ipython",
    "version": 3
   },
   "version": "3.8.1-final"
  },
  "orig_nbformat": 2,
  "file_extension": ".py",
  "mimetype": "text/x-python",
  "name": "python",
  "npconvert_exporter": "python",
  "pygments_lexer": "ipython3",
  "version": 3,
  "kernelspec": {
   "name": "python38164bitmlcondaa475730f383249d6b4426005805a2675",
   "display_name": "Python 3.8.1 64-bit ('ml': conda)"
  }
 },
 "cells": [
  {
   "cell_type": "code",
   "execution_count": 2,
   "metadata": {},
   "outputs": [],
   "source": [
    "import pandas as pd\n",
    "import numpy as np\n",
    "import seaborn as sns\n",
    "from pandas.io.json import json_normalize"
   ]
  },
  {
   "cell_type": "code",
   "execution_count": 50,
   "metadata": {},
   "outputs": [],
   "source": [
    "with open('Graduate - HEADLINES dataset (2019-06).json', 'r') as jsonFile:\n",
    "    df = pd.read_json(jsonFile, lines=True)"
   ]
  },
  {
   "cell_type": "code",
   "execution_count": 55,
   "metadata": {},
   "outputs": [
    {
     "data": {
      "text/plain": "headline        object\nis_sarcastic     int64\ndtype: object"
     },
     "execution_count": 55,
     "metadata": {},
     "output_type": "execute_result"
    }
   ],
   "source": [
    "df.dtypes"
   ]
  },
  {
   "cell_type": "code",
   "execution_count": 61,
   "metadata": {},
   "outputs": [
    {
     "data": {
      "text/html": "<div>\n<style scoped>\n    .dataframe tbody tr th:only-of-type {\n        vertical-align: middle;\n    }\n\n    .dataframe tbody tr th {\n        vertical-align: top;\n    }\n\n    .dataframe thead th {\n        text-align: right;\n    }\n</style>\n<table border=\"1\" class=\"dataframe\">\n  <thead>\n    <tr style=\"text-align: right;\">\n      <th></th>\n      <th>headline</th>\n    </tr>\n    <tr>\n      <th>is_sarcastic</th>\n      <th></th>\n    </tr>\n  </thead>\n  <tbody>\n    <tr>\n      <th>0</th>\n      <td>14985</td>\n    </tr>\n    <tr>\n      <th>1</th>\n      <td>11724</td>\n    </tr>\n  </tbody>\n</table>\n</div>",
      "text/plain": "              headline\nis_sarcastic          \n0                14985\n1                11724"
     },
     "execution_count": 61,
     "metadata": {},
     "output_type": "execute_result"
    }
   ],
   "source": [
    "df.groupby('is_sarcastic').count()"
   ]
  },
  {
   "cell_type": "code",
   "execution_count": 60,
   "metadata": {},
   "outputs": [
    {
     "name": "stdout",
     "output_type": "stream",
     "text": "is_sarcastic\ncount  26709.000000\nmean       0.438953\nstd        0.496269\nmin        0.000000\n25%        0.000000\n50%        0.000000\n75%        1.000000\nmax        1.000000\n"
    },
    {
     "data": {
      "text/plain": "headline        0\nis_sarcastic    0\ndtype: int64"
     },
     "execution_count": 60,
     "metadata": {},
     "output_type": "execute_result"
    }
   ],
   "source": [
    "print(df.describe())\n",
    "df.isna().sum()"
   ]
  },
  {
   "cell_type": "code",
   "execution_count": 62,
   "metadata": {},
   "outputs": [
    {
     "data": {
      "text/html": "<div>\n<style scoped>\n    .dataframe tbody tr th:only-of-type {\n        vertical-align: middle;\n    }\n\n    .dataframe tbody tr th {\n        vertical-align: top;\n    }\n\n    .dataframe thead th {\n        text-align: right;\n    }\n</style>\n<table border=\"1\" class=\"dataframe\">\n  <thead>\n    <tr style=\"text-align: right;\">\n      <th></th>\n      <th>headline</th>\n      <th>is_sarcastic</th>\n    </tr>\n  </thead>\n  <tbody>\n    <tr>\n      <th>0</th>\n      <td>former versace store clerk sues over secret 'b...</td>\n      <td>0</td>\n    </tr>\n    <tr>\n      <th>1</th>\n      <td>the 'roseanne' revival catches up to our thorn...</td>\n      <td>0</td>\n    </tr>\n    <tr>\n      <th>2</th>\n      <td>mom starting to fear son's web series closest ...</td>\n      <td>1</td>\n    </tr>\n    <tr>\n      <th>3</th>\n      <td>boehner just wants wife to listen, not come up...</td>\n      <td>1</td>\n    </tr>\n    <tr>\n      <th>4</th>\n      <td>j.k. rowling wishes snape happy birthday in th...</td>\n      <td>0</td>\n    </tr>\n    <tr>\n      <th>5</th>\n      <td>advancing the world's women</td>\n      <td>0</td>\n    </tr>\n    <tr>\n      <th>6</th>\n      <td>the fascinating case for eating lab-grown meat</td>\n      <td>0</td>\n    </tr>\n    <tr>\n      <th>7</th>\n      <td>this ceo will send your kids to school, if you...</td>\n      <td>0</td>\n    </tr>\n    <tr>\n      <th>8</th>\n      <td>top snake handler leaves sinking huckabee camp...</td>\n      <td>1</td>\n    </tr>\n    <tr>\n      <th>9</th>\n      <td>friday's morning email: inside trump's presser...</td>\n      <td>0</td>\n    </tr>\n    <tr>\n      <th>10</th>\n      <td>airline passengers tackle man who rushes cockp...</td>\n      <td>0</td>\n    </tr>\n    <tr>\n      <th>11</th>\n      <td>facebook reportedly working on healthcare feat...</td>\n      <td>0</td>\n    </tr>\n    <tr>\n      <th>12</th>\n      <td>north korea praises trump and urges us voters ...</td>\n      <td>0</td>\n    </tr>\n    <tr>\n      <th>13</th>\n      <td>actually, cnn's jeffrey lord has been 'indefen...</td>\n      <td>0</td>\n    </tr>\n    <tr>\n      <th>14</th>\n      <td>barcelona holds huge protest in support of ref...</td>\n      <td>0</td>\n    </tr>\n    <tr>\n      <th>15</th>\n      <td>nuclear bomb detonates during rehearsal for 's...</td>\n      <td>1</td>\n    </tr>\n    <tr>\n      <th>16</th>\n      <td>cosby lawyer asks why accusers didn't come for...</td>\n      <td>1</td>\n    </tr>\n    <tr>\n      <th>17</th>\n      <td>stock analysts confused, frightened by boar ma...</td>\n      <td>1</td>\n    </tr>\n    <tr>\n      <th>18</th>\n      <td>bloomberg's program to build better cities jus...</td>\n      <td>0</td>\n    </tr>\n    <tr>\n      <th>19</th>\n      <td>craig hicks indicted</td>\n      <td>0</td>\n    </tr>\n  </tbody>\n</table>\n</div>",
      "text/plain": "                                             headline  is_sarcastic\n0   former versace store clerk sues over secret 'b...             0\n1   the 'roseanne' revival catches up to our thorn...             0\n2   mom starting to fear son's web series closest ...             1\n3   boehner just wants wife to listen, not come up...             1\n4   j.k. rowling wishes snape happy birthday in th...             0\n5                         advancing the world's women             0\n6      the fascinating case for eating lab-grown meat             0\n7   this ceo will send your kids to school, if you...             0\n8   top snake handler leaves sinking huckabee camp...             1\n9   friday's morning email: inside trump's presser...             0\n10  airline passengers tackle man who rushes cockp...             0\n11  facebook reportedly working on healthcare feat...             0\n12  north korea praises trump and urges us voters ...             0\n13  actually, cnn's jeffrey lord has been 'indefen...             0\n14  barcelona holds huge protest in support of ref...             0\n15  nuclear bomb detonates during rehearsal for 's...             1\n16  cosby lawyer asks why accusers didn't come for...             1\n17  stock analysts confused, frightened by boar ma...             1\n18  bloomberg's program to build better cities jus...             0\n19                               craig hicks indicted             0"
     },
     "execution_count": 62,
     "metadata": {},
     "output_type": "execute_result"
    }
   ],
   "source": [
    "df.head(20)"
   ]
  },
  {
   "cell_type": "code",
   "execution_count": 85,
   "metadata": {},
   "outputs": [],
   "source": [
    "from sklearn.pipeline import Pipeline\n",
    "from sklearn.feature_extraction.text import TfidfTransformer\n",
    "from sklearn.feature_extraction.text import CountVectorizer\n",
    "from sklearn.linear_model import SGDClassifier\n",
    "from sklearn import metrics\n",
    "from sklearn.model_selection import GridSearchCV\n",
    "from sklearn.model_selection import StratifiedKFold"
   ]
  },
  {
   "cell_type": "code",
   "execution_count": 86,
   "metadata": {},
   "outputs": [],
   "source": [
    "pipe_sgdc = Pipeline([\n",
    "    ('vect', CountVectorizer()),\n",
    "    ('tfidf', TfidfTransformer()),\n",
    "    ('clf', SGDClassifier(loss='hinge', penalty='l2',\n",
    "    alpha=1e-3, random_state=42, max_iter=5, tol=None)),\n",
    "])\n",
    "para_sgdc = {\n",
    "    'vect__max_df': (0.5, 0.75, 1.0),\n",
    "    'vect__max_features': (None, 5000, 10000, 50000),\n",
    "    'vect__ngram_range': ((1, 1), (1, 2), (1,3)),  # unigrams, bigrams or trigrams\n",
    "    'vect__stop_words': ('english', None),\n",
    "    'tfidf__use_idf': (True, False),\n",
    "    'tfidf__norm': ('l1', 'l2'),\n",
    "    'clf__alpha': (0.00001, 0.000001),\n",
    "    'clf__penalty': ('l2', 'elasticnet'),\n",
    "    'clf__max_iter': (10, 50, 80),\n",
    "}"
   ]
  },
  {
   "cell_type": "code",
   "execution_count": 91,
   "metadata": {},
   "outputs": [
    {
     "name": "stdout",
     "output_type": "stream",
     "text": "precision    recall  f1-score   support\n\n           0       0.78      0.90      0.84      2997\n           1       0.84      0.67      0.75      2345\n\n    accuracy                           0.80      5342\n   macro avg       0.81      0.79      0.79      5342\nweighted avg       0.81      0.80      0.80      5342\n\n              precision    recall  f1-score   support\n\n           0       0.79      0.90      0.84      2997\n           1       0.84      0.69      0.76      2345\n\n    accuracy                           0.80      5342\n   macro avg       0.81      0.79      0.80      5342\nweighted avg       0.81      0.80      0.80      5342\n\n              precision    recall  f1-score   support\n\n           0       0.79      0.89      0.84      2997\n           1       0.83      0.69      0.75      2345\n\n    accuracy                           0.80      5342\n   macro avg       0.81      0.79      0.80      5342\nweighted avg       0.81      0.80      0.80      5342\n\n              precision    recall  f1-score   support\n\n           0       0.78      0.90      0.84      2997\n           1       0.84      0.67      0.75      2345\n\n    accuracy                           0.80      5342\n   macro avg       0.81      0.79      0.79      5342\nweighted avg       0.81      0.80      0.80      5342\n\n              precision    recall  f1-score   support\n\n           0       0.79      0.90      0.84      2997\n           1       0.84      0.69      0.76      2344\n\n    accuracy                           0.81      5341\n   macro avg       0.81      0.79      0.80      5341\nweighted avg       0.81      0.81      0.80      5341\n\n"
    }
   ],
   "source": [
    "sk = StratifiedKFold(n_splits=5, shuffle=True)\n",
    "X = df['headline']\n",
    "Y =  df['is_sarcastic']\n",
    "for train, test in sk.split(X, Y):\n",
    "    pipe_sgdc.fit(X[train], Y[train])\n",
    "    predicted = pipe_sgdc.predict(X[test])\n",
    "    print(metrics.classification_report(Y[test], predicted))"
   ]
  },
  {
   "cell_type": "code",
   "execution_count": 79,
   "metadata": {},
   "outputs": [
    {
     "name": "stdout",
     "output_type": "stream",
     "text": "Fitting 5 folds for each of 3456 candidates, totalling 17280 fits\n[Parallel(n_jobs=-2)]: Using backend LokyBackend with 7 concurrent workers.\n[Parallel(n_jobs=-2)]: Done  36 tasks      | elapsed:   11.4s\n[Parallel(n_jobs=-2)]: Done 186 tasks      | elapsed:   51.2s\n[Parallel(n_jobs=-2)]: Done 436 tasks      | elapsed:  2.0min\n[Parallel(n_jobs=-2)]: Done 786 tasks      | elapsed:  3.5min\n[Parallel(n_jobs=-2)]: Done 1236 tasks      | elapsed:  5.5min\n[Parallel(n_jobs=-2)]: Done 1786 tasks      | elapsed:  7.9min\n[Parallel(n_jobs=-2)]: Done 2436 tasks      | elapsed: 10.7min\n[Parallel(n_jobs=-2)]: Done 3186 tasks      | elapsed: 14.1min\n[Parallel(n_jobs=-2)]: Done 4036 tasks      | elapsed: 18.1min\n[Parallel(n_jobs=-2)]: Done 4986 tasks      | elapsed: 22.9min\n[Parallel(n_jobs=-2)]: Done 6036 tasks      | elapsed: 28.6min\n[Parallel(n_jobs=-2)]: Done 7186 tasks      | elapsed: 34.4min\n[Parallel(n_jobs=-2)]: Done 8436 tasks      | elapsed: 42.0min\n[Parallel(n_jobs=-2)]: Done 9786 tasks      | elapsed: 48.2min\n[Parallel(n_jobs=-2)]: Done 11236 tasks      | elapsed: 54.8min\n[Parallel(n_jobs=-2)]: Done 12786 tasks      | elapsed: 62.3min\n[Parallel(n_jobs=-2)]: Done 14436 tasks      | elapsed: 71.8min\n[Parallel(n_jobs=-2)]: Done 16186 tasks      | elapsed: 82.2min\n[Parallel(n_jobs=-2)]: Done 17280 out of 17280 | elapsed: 89.4min finished\n"
    }
   ],
   "source": [
    "gs_clf = GridSearchCV(pipe_sgdc, para_sgdc, cv=5, n_jobs=-2, verbose=True)\n",
    "gs_clf = gs_clf.fit(df['headline'], df['is_sarcastic'])"
   ]
  },
  {
   "cell_type": "code",
   "execution_count": 80,
   "metadata": {},
   "outputs": [
    {
     "name": "stdout",
     "output_type": "stream",
     "text": "__ngram_range': (1, 3), 'vect__stop_words': None}, {'clf__alpha': 1e-06, 'clf__max_iter': 80, 'clf__penalty': 'elasticnet', 'tfidf__norm': 'l2', 'tfidf__use_idf': True, 'vect__max_df': 1.0, 'vect__max_features': 10000, 'vect__ngram_range': (1, 1), 'vect__stop_words': 'english'}, {'clf__alpha': 1e-06, 'clf__max_iter': 80, 'clf__penalty': 'elasticnet', 'tfidf__norm': 'l2', 'tfidf__use_idf': True, 'vect__max_df': 1.0, 'vect__max_features': 10000, 'vect__ngram_range': (1, 1), 'vect__stop_words': None}, {'clf__alpha': 1e-06, 'clf__max_iter': 80, 'clf__penalty': 'elasticnet', 'tfidf__norm': 'l2', 'tfidf__use_idf': True, 'vect__max_df': 1.0, 'vect__max_features': 10000, 'vect__ngram_range': (1, 2), 'vect__stop_words': 'english'}, {'clf__alpha': 1e-06, 'clf__max_iter': 80, 'clf__penalty': 'elasticnet', 'tfidf__norm': 'l2', 'tfidf__use_idf': True, 'vect__max_df': 1.0, 'vect__max_features': 10000, 'vect__ngram_range': (1, 2), 'vect__stop_words': None}, {'clf__alpha': 1e-06, 'clf__max_iter': 80, 'clf__penalty': 'elasticnet', 'tfidf__norm': 'l2', 'tfidf__use_idf': True, 'vect__max_df': 1.0, 'vect__max_features': 10000, 'vect__ngram_range': (1, 3), 'vect__stop_words': 'english'}, {'clf__alpha': 1e-06, 'clf__max_iter': 80, 'clf__penalty': 'elasticnet', 'tfidf__norm': 'l2', 'tfidf__use_idf': True, 'vect__max_df': 1.0, 'vect__max_features': 10000, 'vect__ngram_range': (1, 3), 'vect__stop_words': None}, {'clf__alpha': 1e-06, 'clf__max_iter': 80, 'clf__penalty': 'elasticnet', 'tfidf__norm': 'l2', 'tfidf__use_idf': True, 'vect__max_df': 1.0, 'vect__max_features': 50000, 'vect__ngram_range': (1, 1), 'vect__stop_words': 'english'}, {'clf__alpha': 1e-06, 'clf__max_iter': 80, 'clf__penalty': 'elasticnet', 'tfidf__norm': 'l2', 'tfidf__use_idf': True, 'vect__max_df': 1.0, 'vect__max_features': 50000, 'vect__ngram_range': (1, 1), 'vect__stop_words': None}, {'clf__alpha': 1e-06, 'clf__max_iter': 80, 'clf__penalty': 'elasticnet', 'tfidf__norm': 'l2', 'tfidf__use_idf': True, 'vect__max_df': 1.0, 'vect__max_features': 50000, 'vect__ngram_range': (1, 2), 'vect__stop_words': 'english'}, {'clf__alpha': 1e-06, 'clf__max_iter': 80, 'clf__penalty': 'elasticnet', 'tfidf__norm': 'l2', 'tfidf__use_idf': True, 'vect__max_df': 1.0, 'vect__max_features': 50000, 'vect__ngram_range': (1, 2), 'vect__stop_words': None}, {'clf__alpha': 1e-06, 'clf__max_iter': 80, 'clf__penalty': 'elasticnet', 'tfidf__norm': 'l2', 'tfidf__use_idf': True, 'vect__max_df': 1.0, 'vect__max_features': 50000, 'vect__ngram_range': (1, 3), 'vect__stop_words': 'english'}, {'clf__alpha': 1e-06, 'clf__max_iter': 80, 'clf__penalty': 'elasticnet', 'tfidf__norm': 'l2', 'tfidf__use_idf': True, 'vect__max_df': 1.0, 'vect__max_features': 50000, 'vect__ngram_range': (1, 3), 'vect__stop_words': None}, {'clf__alpha': 1e-06, 'clf__max_iter': 80, 'clf__penalty': 'elasticnet', 'tfidf__norm': 'l2', 'tfidf__use_idf': False, 'vect__max_df': 0.5, 'vect__max_features': None, 'vect__ngram_range': (1, 1), 'vect__stop_words': 'english'}, {'clf__alpha': 1e-06, 'clf__max_iter': 80, 'clf__penalty': 'elasticnet', 'tfidf__norm': 'l2', 'tfidf__use_idf': False, 'vect__max_df': 0.5, 'vect__max_features': None, 'vect__ngram_range': (1, 1), 'vect__stop_words': None}, {'clf__alpha': 1e-06, 'clf__max_iter': 80, 'clf__penalty': 'elasticnet', 'tfidf__norm': 'l2', 'tfidf__use_idf': False, 'vect__max_df': 0.5, 'vect__max_features': None, 'vect__ngram_range': (1, 2), 'vect__stop_words': 'english'}, {'clf__alpha': 1e-06, 'clf__max_iter': 80, 'clf__penalty': 'elasticnet', 'tfidf__norm': 'l2', 'tfidf__use_idf': False, 'vect__max_df': 0.5, 'vect__max_features': None, 'vect__ngram_range': (1, 2), 'vect__stop_words': None}, {'clf__alpha': 1e-06, 'clf__max_iter': 80, 'clf__penalty': 'elasticnet', 'tfidf__norm': 'l2', 'tfidf__use_idf': False, 'vect__max_df': 0.5, 'vect__max_features': None, 'vect__ngram_range': (1, 3), 'vect__stop_words': 'english'}, {'clf__alpha': 1e-06, 'clf__max_iter': 80, 'clf__penalty': 'elasticnet', 'tfidf__norm': 'l2', 'tfidf__use_idf': False, 'vect__max_df': 0.5, 'vect__max_features': None, 'vect__ngram_range': (1, 3), 'vect__stop_words': None}, {'clf__alpha': 1e-06, 'clf__max_iter': 80, 'clf__penalty': 'elasticnet', 'tfidf__norm': 'l2', 'tfidf__use_idf': False, 'vect__max_df': 0.5, 'vect__max_features': 5000, 'vect__ngram_range': (1, 1), 'vect__stop_words': 'english'}, {'clf__alpha': 1e-06, 'clf__max_iter': 80, 'clf__penalty': 'elasticnet', 'tfidf__norm': 'l2', 'tfidf__use_idf': False, 'vect__max_df': 0.5, 'vect__max_features': 5000, 'vect__ngram_range': (1, 1), 'vect__stop_words': None}, {'clf__alpha': 1e-06, 'clf__max_iter': 80, 'clf__penalty': 'elasticnet', 'tfidf__norm': 'l2', 'tfidf__use_idf': False, 'vect__max_df': 0.5, 'vect__max_features': 5000, 'vect__ngram_range': (1, 2), 'vect__stop_words': 'english'}, {'clf__alpha': 1e-06, 'clf__max_iter': 80, 'clf__penalty': 'elasticnet', 'tfidf__norm': 'l2', 'tfidf__use_idf': False, 'vect__max_df': 0.5, 'vect__max_features': 5000, 'vect__ngram_range': (1, 2), 'vect__stop_words': None}, {'clf__alpha': 1e-06, 'clf__max_iter': 80, 'clf__penalty': 'elasticnet', 'tfidf__norm': 'l2', 'tfidf__use_idf': False, 'vect__max_df': 0.5, 'vect__max_features': 5000, 'vect__ngram_range': (1, 3), 'vect__stop_words': 'english'}, {'clf__alpha': 1e-06, 'clf__max_iter': 80, 'clf__penalty': 'elasticnet', 'tfidf__norm': 'l2', 'tfidf__use_idf': False, 'vect__max_df': 0.5, 'vect__max_features': 5000, 'vect__ngram_range': (1, 3), 'vect__stop_words': None}, {'clf__alpha': 1e-06, 'clf__max_iter': 80, 'clf__penalty': 'elasticnet', 'tfidf__norm': 'l2', 'tfidf__use_idf': False, 'vect__max_df': 0.5, 'vect__max_features': 10000, 'vect__ngram_range': (1, 1), 'vect__stop_words': 'english'}, {'clf__alpha': 1e-06, 'clf__max_iter': 80, 'clf__penalty': 'elasticnet', 'tfidf__norm': 'l2', 'tfidf__use_idf': False, 'vect__max_df': 0.5, 'vect__max_features': 10000, 'vect__ngram_range': (1, 1), 'vect__stop_words': None}, {'clf__alpha': 1e-06, 'clf__max_iter': 80, 'clf__penalty': 'elasticnet', 'tfidf__norm': 'l2', 'tfidf__use_idf': False, 'vect__max_df': 0.5, 'vect__max_features': 10000, 'vect__ngram_range': (1, 2), 'vect__stop_words': 'english'}, {'clf__alpha': 1e-06, 'clf__max_iter': 80, 'clf__penalty': 'elasticnet', 'tfidf__norm': 'l2', 'tfidf__use_idf': False, 'vect__max_df': 0.5, 'vect__max_features': 10000, 'vect__ngram_range': (1, 2), 'vect__stop_words': None}, {'clf__alpha': 1e-06, 'clf__max_iter': 80, 'clf__penalty': 'elasticnet', 'tfidf__norm': 'l2', 'tfidf__use_idf': False, 'vect__max_df': 0.5, 'vect__max_features': 10000, 'vect__ngram_range': (1, 3), 'vect__stop_words': 'english'}, {'clf__alpha': 1e-06, 'clf__max_iter': 80, 'clf__penalty': 'elasticnet', 'tfidf__norm': 'l2', 'tfidf__use_idf': False, 'vect__max_df': 0.5, 'vect__max_features': 10000, 'vect__ngram_range': (1, 3), 'vect__stop_words': None}, {'clf__alpha': 1e-06, 'clf__max_iter': 80, 'clf__penalty': 'elasticnet', 'tfidf__norm': 'l2', 'tfidf__use_idf': False, 'vect__max_df': 0.5, 'vect__max_features': 50000, 'vect__ngram_range': (1, 1), 'vect__stop_words': 'english'}, {'clf__alpha': 1e-06, 'clf__max_iter': 80, 'clf__penalty': 'elasticnet', 'tfidf__norm': 'l2', 'tfidf__use_idf': False, 'vect__max_df': 0.5, 'vect__max_features': 50000, 'vect__ngram_range': (1, 1), 'vect__stop_words': None}, {'clf__alpha': 1e-06, 'clf__max_iter': 80, 'clf__penalty': 'elasticnet', 'tfidf__norm': 'l2', 'tfidf__use_idf': False, 'vect__max_df': 0.5, 'vect__max_features': 50000, 'vect__ngram_range': (1, 2), 'vect__stop_words': 'english'}, {'clf__alpha': 1e-06, 'clf__max_iter': 80, 'clf__penalty': 'elasticnet', 'tfidf__norm': 'l2', 'tfidf__use_idf': False, 'vect__max_df': 0.5, 'vect__max_features': 50000, 'vect__ngram_range': (1, 2), 'vect__stop_words': None}, {'clf__alpha': 1e-06, 'clf__max_iter': 80, 'clf__penalty': 'elasticnet', 'tfidf__norm': 'l2', 'tfidf__use_idf': False, 'vect__max_df': 0.5, 'vect__max_features': 50000, 'vect__ngram_range': (1, 3), 'vect__stop_words': 'english'}, {'clf__alpha': 1e-06, 'clf__max_iter': 80, 'clf__penalty': 'elasticnet', 'tfidf__norm': 'l2', 'tfidf__use_idf': False, 'vect__max_df': 0.5, 'vect__max_features': 50000, 'vect__ngram_range': (1, 3), 'vect__stop_words': None}, {'clf__alpha': 1e-06, 'clf__max_iter': 80, 'clf__penalty': 'elasticnet', 'tfidf__norm': 'l2', 'tfidf__use_idf': False, 'vect__max_df': 0.75, 'vect__max_features': None, 'vect__ngram_range': (1, 1), 'vect__stop_words': 'english'}, {'clf__alpha': 1e-06, 'clf__max_iter': 80, 'clf__penalty': 'elasticnet', 'tfidf__norm': 'l2', 'tfidf__use_idf': False, 'vect__max_df': 0.75, 'vect__max_features': None, 'vect__ngram_range': (1, 1), 'vect__stop_words': None}, {'clf__alpha': 1e-06, 'clf__max_iter': 80, 'clf__penalty': 'elasticnet', 'tfidf__norm': 'l2', 'tfidf__use_idf': False, 'vect__max_df': 0.75, 'vect__max_features': None, 'vect__ngram_range': (1, 2), 'vect__stop_words': 'english'}, {'clf__alpha': 1e-06, 'clf__max_iter': 80, 'clf__penalty': 'elasticnet', 'tfidf__norm': 'l2', 'tfidf__use_idf': False, 'vect__max_df': 0.75, 'vect__max_features': None, 'vect__ngram_range': (1, 2), 'vect__stop_words': None}, {'clf__alpha': 1e-06, 'clf__max_iter': 80, 'clf__penalty': 'elasticnet', 'tfidf__norm': 'l2', 'tfidf__use_idf': False, 'vect__max_df': 0.75, 'vect__max_features': None, 'vect__ngram_range': (1, 3), 'vect__stop_words': 'english'}, {'clf__alpha': 1e-06, 'clf__max_iter': 80, 'clf__penalty': 'elasticnet', 'tfidf__norm': 'l2', 'tfidf__use_idf': False, 'vect__max_df': 0.75, 'vect__max_features': None, 'vect__ngram_range': (1, 3), 'vect__stop_words': None}, {'clf__alpha': 1e-06, 'clf__max_iter': 80, 'clf__penalty': 'elasticnet', 'tfidf__norm': 'l2', 'tfidf__use_idf': False, 'vect__max_df': 0.75, 'vect__max_features': 5000, 'vect__ngram_range': (1, 1), 'vect__stop_words': 'english'}, {'clf__alpha': 1e-06, 'clf__max_iter': 80, 'clf__penalty': 'elasticnet', 'tfidf__norm': 'l2', 'tfidf__use_idf': False, 'vect__max_df': 0.75, 'vect__max_features': 5000, 'vect__ngram_range': (1, 1), 'vect__stop_words': None}, {'clf__alpha': 1e-06, 'clf__max_iter': 80, 'clf__penalty': 'elasticnet', 'tfidf__norm': 'l2', 'tfidf__use_idf': False, 'vect__max_df': 0.75, 'vect__max_features': 5000, 'vect__ngram_range': (1, 2), 'vect__stop_words': 'english'}, {'clf__alpha': 1e-06, 'clf__max_iter': 80, 'clf__penalty': 'elasticnet', 'tfidf__norm': 'l2', 'tfidf__use_idf': False, 'vect__max_df': 0.75, 'vect__max_features': 5000, 'vect__ngram_range': (1, 2), 'vect__stop_words': None}, {'clf__alpha': 1e-06, 'clf__max_iter': 80, 'clf__penalty': 'elasticnet', 'tfidf__norm': 'l2', 'tfidf__use_idf': False, 'vect__max_df': 0.75, 'vect__max_features': 5000, 'vect__ngram_range': (1, 3), 'vect__stop_words': 'english'}, {'clf__alpha': 1e-06, 'clf__max_iter': 80, 'clf__penalty': 'elasticnet', 'tfidf__norm': 'l2', 'tfidf__use_idf': False, 'vect__max_df': 0.75, 'vect__max_features': 5000, 'vect__ngram_range': (1, 3), 'vect__stop_words': None}, {'clf__alpha': 1e-06, 'clf__max_iter': 80, 'clf__penalty': 'elasticnet', 'tfidf__norm': 'l2', 'tfidf__use_idf': False, 'vect__max_df': 0.75, 'vect__max_features': 10000, 'vect__ngram_range': (1, 1), 'vect__stop_words': 'english'}, {'clf__alpha': 1e-06, 'clf__max_iter': 80, 'clf__penalty': 'elasticnet', 'tfidf__norm': 'l2', 'tfidf__use_idf': False, 'vect__max_df': 0.75, 'vect__max_features': 10000, 'vect__ngram_range': (1, 1), 'vect__stop_words': None}, {'clf__alpha': 1e-06, 'clf__max_iter': 80, 'clf__penalty': 'elasticnet', 'tfidf__norm': 'l2', 'tfidf__use_idf': False, 'vect__max_df': 0.75, 'vect__max_features': 10000, 'vect__ngram_range': (1, 2), 'vect__stop_words': 'english'}, {'clf__alpha': 1e-06, 'clf__max_iter': 80, 'clf__penalty': 'elasticnet', 'tfidf__norm': 'l2', 'tfidf__use_idf': False, 'vect__max_df': 0.75, 'vect__max_features': 10000, 'vect__ngram_range': (1, 2), 'vect__stop_words': None}, {'clf__alpha': 1e-06, 'clf__max_iter': 80, 'clf__penalty': 'elasticnet', 'tfidf__norm': 'l2', 'tfidf__use_idf': False, 'vect__max_df': 0.75, 'vect__max_features': 10000, 'vect__ngram_range': (1, 3), 'vect__stop_words': 'english'}, {'clf__alpha': 1e-06, 'clf__max_iter': 80, 'clf__penalty': 'elasticnet', 'tfidf__norm': 'l2', 'tfidf__use_idf': False, 'vect__max_df': 0.75, 'vect__max_features': 10000, 'vect__ngram_range': (1, 3), 'vect__stop_words': None}, {'clf__alpha': 1e-06, 'clf__max_iter': 80, 'clf__penalty': 'elasticnet', 'tfidf__norm': 'l2', 'tfidf__use_idf': False, 'vect__max_df': 0.75, 'vect__max_features': 50000, 'vect__ngram_range': (1, 1), 'vect__stop_words': 'english'}, {'clf__alpha': 1e-06, 'clf__max_iter': 80, 'clf__penalty': 'elasticnet', 'tfidf__norm': 'l2', 'tfidf__use_idf': False, 'vect__max_df': 0.75, 'vect__max_features': 50000, 'vect__ngram_range': (1, 1), 'vect__stop_words': None}, {'clf__alpha': 1e-06, 'clf__max_iter': 80, 'clf__penalty': 'elasticnet', 'tfidf__norm': 'l2', 'tfidf__use_idf': False, 'vect__max_df': 0.75, 'vect__max_features': 50000, 'vect__ngram_range': (1, 2), 'vect__stop_words': 'english'}, {'clf__alpha': 1e-06, 'clf__max_iter': 80, 'clf__penalty': 'elasticnet', 'tfidf__norm': 'l2', 'tfidf__use_idf': False, 'vect__max_df': 0.75, 'vect__max_features': 50000, 'vect__ngram_range': (1, 2), 'vect__stop_words': None}, {'clf__alpha': 1e-06, 'clf__max_iter': 80, 'clf__penalty': 'elasticnet', 'tfidf__norm': 'l2', 'tfidf__use_idf': False, 'vect__max_df': 0.75, 'vect__max_features': 50000, 'vect__ngram_range': (1, 3), 'vect__stop_words': 'english'}, {'clf__alpha': 1e-06, 'clf__max_iter': 80, 'clf__penalty': 'elasticnet', 'tfidf__norm': 'l2', 'tfidf__use_idf': False, 'vect__max_df': 0.75, 'vect__max_features': 50000, 'vect__ngram_range': (1, 3), 'vect__stop_words': None}, {'clf__alpha': 1e-06, 'clf__max_iter': 80, 'clf__penalty': 'elasticnet', 'tfidf__norm': 'l2', 'tfidf__use_idf': False, 'vect__max_df': 1.0, 'vect__max_features': None, 'vect__ngram_range': (1, 1), 'vect__stop_words': 'english'}, {'clf__alpha': 1e-06, 'clf__max_iter': 80, 'clf__penalty': 'elasticnet', 'tfidf__norm': 'l2', 'tfidf__use_idf': False, 'vect__max_df': 1.0, 'vect__max_features': None, 'vect__ngram_range': (1, 1), 'vect__stop_words': None}, {'clf__alpha': 1e-06, 'clf__max_iter': 80, 'clf__penalty': 'elasticnet', 'tfidf__norm': 'l2', 'tfidf__use_idf': False, 'vect__max_df': 1.0, 'vect__max_features': None, 'vect__ngram_range': (1, 2), 'vect__stop_words': 'english'}, {'clf__alpha': 1e-06, 'clf__max_iter': 80, 'clf__penalty': 'elasticnet', 'tfidf__norm': 'l2', 'tfidf__use_idf': False, 'vect__max_df': 1.0, 'vect__max_features': None, 'vect__ngram_range': (1, 2), 'vect__stop_words': None}, {'clf__alpha': 1e-06, 'clf__max_iter': 80, 'clf__penalty': 'elasticnet', 'tfidf__norm': 'l2', 'tfidf__use_idf': False, 'vect__max_df': 1.0, 'vect__max_features': None, 'vect__ngram_range': (1, 3), 'vect__stop_words': 'english'}, {'clf__alpha': 1e-06, 'clf__max_iter': 80, 'clf__penalty': 'elasticnet', 'tfidf__norm': 'l2', 'tfidf__use_idf': False, 'vect__max_df': 1.0, 'vect__max_features': None, 'vect__ngram_range': (1, 3), 'vect__stop_words': None}, {'clf__alpha': 1e-06, 'clf__max_iter': 80, 'clf__penalty': 'elasticnet', 'tfidf__norm': 'l2', 'tfidf__use_idf': False, 'vect__max_df': 1.0, 'vect__max_features': 5000, 'vect__ngram_range': (1, 1), 'vect__stop_words': 'english'}, {'clf__alpha': 1e-06, 'clf__max_iter': 80, 'clf__penalty': 'elasticnet', 'tfidf__norm': 'l2', 'tfidf__use_idf': False, 'vect__max_df': 1.0, 'vect__max_features': 5000, 'vect__ngram_range': (1, 1), 'vect__stop_words': None}, {'clf__alpha': 1e-06, 'clf__max_iter': 80, 'clf__penalty': 'elasticnet', 'tfidf__norm': 'l2', 'tfidf__use_idf': False, 'vect__max_df': 1.0, 'vect__max_features': 5000, 'vect__ngram_range': (1, 2), 'vect__stop_words': 'english'}, {'clf__alpha': 1e-06, 'clf__max_iter': 80, 'clf__penalty': 'elasticnet', 'tfidf__norm': 'l2', 'tfidf__use_idf': False, 'vect__max_df': 1.0, 'vect__max_features': 5000, 'vect__ngram_range': (1, 2), 'vect__stop_words': None}, {'clf__alpha': 1e-06, 'clf__max_iter': 80, 'clf__penalty': 'elasticnet', 'tfidf__norm': 'l2', 'tfidf__use_idf': False, 'vect__max_df': 1.0, 'vect__max_features': 5000, 'vect__ngram_range': (1, 3), 'vect__stop_words': 'english'}, {'clf__alpha': 1e-06, 'clf__max_iter': 80, 'clf__penalty': 'elasticnet', 'tfidf__norm': 'l2', 'tfidf__use_idf': False, 'vect__max_df': 1.0, 'vect__max_features': 5000, 'vect__ngram_range': (1, 3), 'vect__stop_words': None}, {'clf__alpha': 1e-06, 'clf__max_iter': 80, 'clf__penalty': 'elasticnet', 'tfidf__norm': 'l2', 'tfidf__use_idf': False, 'vect__max_df': 1.0, 'vect__max_features': 10000, 'vect__ngram_range': (1, 1), 'vect__stop_words': 'english'}, {'clf__alpha': 1e-06, 'clf__max_iter': 80, 'clf__penalty': 'elasticnet', 'tfidf__norm': 'l2', 'tfidf__use_idf': False, 'vect__max_df': 1.0, 'vect__max_features': 10000, 'vect__ngram_range': (1, 1), 'vect__stop_words': None}, {'clf__alpha': 1e-06, 'clf__max_iter': 80, 'clf__penalty': 'elasticnet', 'tfidf__norm': 'l2', 'tfidf__use_idf': False, 'vect__max_df': 1.0, 'vect__max_features': 10000, 'vect__ngram_range': (1, 2), 'vect__stop_words': 'english'}, {'clf__alpha': 1e-06, 'clf__max_iter': 80, 'clf__penalty': 'elasticnet', 'tfidf__norm': 'l2', 'tfidf__use_idf': False, 'vect__max_df': 1.0, 'vect__max_features': 10000, 'vect__ngram_range': (1, 2), 'vect__stop_words': None}, {'clf__alpha': 1e-06, 'clf__max_iter': 80, 'clf__penalty': 'elasticnet', 'tfidf__norm': 'l2', 'tfidf__use_idf': False, 'vect__max_df': 1.0, 'vect__max_features': 10000, 'vect__ngram_range': (1, 3), 'vect__stop_words': 'english'}, {'clf__alpha': 1e-06, 'clf__max_iter': 80, 'clf__penalty': 'elasticnet', 'tfidf__norm': 'l2', 'tfidf__use_idf': False, 'vect__max_df': 1.0, 'vect__max_features': 10000, 'vect__ngram_range': (1, 3), 'vect__stop_words': None}, {'clf__alpha': 1e-06, 'clf__max_iter': 80, 'clf__penalty': 'elasticnet', 'tfidf__norm': 'l2', 'tfidf__use_idf': False, 'vect__max_df': 1.0, 'vect__max_features': 50000, 'vect__ngram_range': (1, 1), 'vect__stop_words': 'english'}, {'clf__alpha': 1e-06, 'clf__max_iter': 80, 'clf__penalty': 'elasticnet', 'tfidf__norm': 'l2', 'tfidf__use_idf': False, 'vect__max_df': 1.0, 'vect__max_features': 50000, 'vect__ngram_range': (1, 1), 'vect__stop_words': None}, {'clf__alpha': 1e-06, 'clf__max_iter': 80, 'clf__penalty': 'elasticnet', 'tfidf__norm': 'l2', 'tfidf__use_idf': False, 'vect__max_df': 1.0, 'vect__max_features': 50000, 'vect__ngram_range': (1, 2), 'vect__stop_words': 'english'}, {'clf__alpha': 1e-06, 'clf__max_iter': 80, 'clf__penalty': 'elasticnet', 'tfidf__norm': 'l2', 'tfidf__use_idf': False, 'vect__max_df': 1.0, 'vect__max_features': 50000, 'vect__ngram_range': (1, 2), 'vect__stop_words': None}, {'clf__alpha': 1e-06, 'clf__max_iter': 80, 'clf__penalty': 'elasticnet', 'tfidf__norm': 'l2', 'tfidf__use_idf': False, 'vect__max_df': 1.0, 'vect__max_features': 50000, 'vect__ngram_range': (1, 3), 'vect__stop_words': 'english'}, {'clf__alpha': 1e-06, 'clf__max_iter': 80, 'clf__penalty': 'elasticnet', 'tfidf__norm': 'l2', 'tfidf__use_idf': False, 'vect__max_df': 1.0, 'vect__max_features': 50000, 'vect__ngram_range': (1, 3), 'vect__stop_words': None}], 'split0_test_score': array([0.7989517 , 0.84762261, 0.7899663 , ..., 0.84481468, 0.77573942,\n       0.84256833]), 'split1_test_score': array([0.79670535, 0.85305129, 0.79707975, ..., 0.84500187, 0.77499064,\n       0.84200674]), 'split2_test_score': array([0.80307001, 0.84874579, 0.79726694, ..., 0.8483714 , 0.78191689,\n       0.84724822]), 'split3_test_score': array([0.79352303, 0.84107076, 0.78229128, ..., 0.83657806, 0.77424186,\n       0.83245975]), 'split4_test_score': array([0.78524621, 0.8391687 , 0.77925482, ..., 0.836173  , 0.76689758,\n       0.83111777]), 'mean_test_score': array([0.79549926, 0.84593183, 0.78917182, ..., 0.8421878 , 0.77475728,\n       0.83908016]), 'std_test_score': array([0.00599535, 0.00511535, 0.00740792, ..., 0.00491332, 0.00478162,\n       0.00623985]), 'rank_test_score': array([2005,  382, 2299, ...,  499, 2923,  610])}\n"
    }
   ],
   "source": [
    "print(gs_clf.best_score_)\n",
    "print(gs_clf.cv_results_)"
   ]
  },
  {
   "cell_type": "code",
   "execution_count": 84,
   "metadata": {},
   "outputs": [
    {
     "name": "stdout",
     "output_type": "stream",
     "text": "{'memory': None, 'steps': [('vect', CountVectorizer(analyzer='word', binary=False, decode_error='strict',\n                dtype=<class 'numpy.int64'>, encoding='utf-8', input='content',\n                lowercase=True, max_df=0.5, max_features=None, min_df=1,\n                ngram_range=(1, 3), preprocessor=None, stop_words=None,\n                strip_accents=None, token_pattern='(?u)\\\\b\\\\w\\\\w+\\\\b',\n                tokenizer=None, vocabulary=None)), ('tfidf', TfidfTransformer(norm='l2', smooth_idf=True, sublinear_tf=False, use_idf=True)), ('clf', SGDClassifier(alpha=1e-05, average=False, class_weight=None,\n              early_stopping=False, epsilon=0.1, eta0=0.0, fit_intercept=True,\n              l1_ratio=0.15, learning_rate='optimal', loss='hinge', max_iter=80,\n              n_iter_no_change=5, n_jobs=None, penalty='l2', power_t=0.5,\n              random_state=42, shuffle=True, tol=None, validation_fraction=0.1,\n              verbose=0, warm_start=False))], 'verbose': False, 'vect': CountVectorizer(analyzer='word', binary=False, decode_error='strict',\n                dtype=<class 'numpy.int64'>, encoding='utf-8', input='content',\n                lowercase=True, max_df=0.5, max_features=None, min_df=1,\n                ngram_range=(1, 3), preprocessor=None, stop_words=None,\n                strip_accents=None, token_pattern='(?u)\\\\b\\\\w\\\\w+\\\\b',\n                tokenizer=None, vocabulary=None), 'tfidf': TfidfTransformer(norm='l2', smooth_idf=True, sublinear_tf=False, use_idf=True), 'clf': SGDClassifier(alpha=1e-05, average=False, class_weight=None,\n              early_stopping=False, epsilon=0.1, eta0=0.0, fit_intercept=True,\n              l1_ratio=0.15, learning_rate='optimal', loss='hinge', max_iter=80,\n              n_iter_no_change=5, n_jobs=None, penalty='l2', power_t=0.5,\n              random_state=42, shuffle=True, tol=None, validation_fraction=0.1,\n              verbose=0, warm_start=False), 'vect__analyzer': 'word', 'vect__binary': False, 'vect__decode_error': 'strict', 'vect__dtype': <class 'numpy.int64'>, 'vect__encoding': 'utf-8', 'vect__input': 'content', 'vect__lowercase': True, 'vect__max_df': 0.5, 'vect__max_features': None, 'vect__min_df': 1, 'vect__ngram_range': (1, 3), 'vect__preprocessor': None, 'vect__stop_words': None, 'vect__strip_accents': None, 'vect__token_pattern': '(?u)\\\\b\\\\w\\\\w+\\\\b', 'vect__tokenizer': None, 'vect__vocabulary': None, 'tfidf__norm': 'l2', 'tfidf__smooth_idf': True, 'tfidf__sublinear_tf': False, 'tfidf__use_idf': True, 'clf__alpha': 1e-05, 'clf__average': False, 'clf__class_weight': None, 'clf__early_stopping': False, 'clf__epsilon': 0.1, 'clf__eta0': 0.0, 'clf__fit_intercept': True, 'clf__l1_ratio': 0.15, 'clf__learning_rate': 'optimal', 'clf__loss': 'hinge', 'clf__max_iter': 80, 'clf__n_iter_no_change': 5, 'clf__n_jobs': None, 'clf__penalty': 'l2', 'clf__power_t': 0.5, 'clf__random_state': 42, 'clf__shuffle': True, 'clf__tol': None, 'clf__validation_fraction': 0.1, 'clf__verbose': 0, 'clf__warm_start': False}\n"
    }
   ],
   "source": [
    "print(gs_clf.best_estimator_.get_params())"
   ]
  },
  {
   "cell_type": "code",
   "execution_count": 82,
   "metadata": {},
   "outputs": [
    {
     "data": {
      "text/plain": "0.8607209642690486"
     },
     "execution_count": 82,
     "metadata": {},
     "output_type": "execute_result"
    }
   ],
   "source": [
    "gs_clf.best_score_"
   ]
  }
 ]
}